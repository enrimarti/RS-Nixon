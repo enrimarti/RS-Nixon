{
 "cells": [
  {
   "cell_type": "code",
   "execution_count": null,
   "metadata": {
    "collapsed": true
   },
   "outputs": [],
   "source": [
    "#list1: [(item1,int rating1)...(itemN,ratingN)] of user1\n",
    "#list2: [(item1,int ratingM)...(itemN,ratingM)] of user2\n",
    "#returns euclidean distance between user1 and user2\n",
    "def euc_dist (ratings1_list, ratings2_list):\n",
    "    shared_items=[]\n",
    "    for item1 in ratings1_list:\n",
    "        for item2 in ratings2_list:\n",
    "            if (item1[0] == item2[0]):\n",
    "                shared_items.append([item1[1], item2[1]])\n",
    "    \n",
    "    n_items = len(shared_items)\n",
    "    if (n_items == 0): return 0\n",
    "    \n",
    "    sum_of_squares =sum([pow(vote[0], vote[1],2) for vote in shared_items])\n",
    "    return 1.0 / float( 1 + sum_of_squares)\n",
    "\n",
    "#list1: [(item1,int rating1)...(itemN,ratingN)] of user1\n",
    "#list2: [(item1,int ratingM)...(itemN,ratingM)] of user2\n",
    "#returns pearson similarity between user1 and user2\n",
    "def sim_pearson(ratings1,ratings2):\n",
    "    ratings_common=[]\n",
    "    for rate1 in ratings1:\n",
    "        for rate2 in ratings2:\n",
    "            if (rate1[0]==rate2[0]):\n",
    "                ratings_common.append([rate1[1],rate2[1]])\n",
    "\n",
    "    n=len(ratings_common)\n",
    "    if (n==0):\n",
    "        return 0\n",
    "    \n",
    "    sum1=float(sum([rate[0] for rate in ratings_common]))\n",
    "    sum2=float(sum([rate[1] for rate in ratings_common]))\n",
    "    \n",
    "    sum1sq=float(sum([pow(rate[0],2) for rate in ratings_common]))\n",
    "    sum2sq=float(sum([pow(rate[1],2) for rate in ratings_common]))\n",
    "    \n",
    "    pSum=float(sum([rate[0]*rate[1] for rate in ratings_common]))\n",
    "    \n",
    "    num=pSum-(sum1*sum2/n)\n",
    "    den=sqrt((sum1sq-pow(sum1,2)/n)*(sum2sq-pow(sum2,2)/n))\n",
    "    if den==0: return 0\n",
    "    \n",
    "    return num/den\n",
    "\n",
    "\n",
    "\n"
   ]
  }
 ],
 "metadata": {
  "kernelspec": {
   "display_name": "Python 2",
   "language": "python",
   "name": "python2"
  },
  "language_info": {
   "codemirror_mode": {
    "name": "ipython",
    "version": 2
   },
   "file_extension": ".py",
   "mimetype": "text/x-python",
   "name": "python",
   "nbconvert_exporter": "python",
   "pygments_lexer": "ipython2",
   "version": "2.7.10"
  }
 },
 "nbformat": 4,
 "nbformat_minor": 0
}
