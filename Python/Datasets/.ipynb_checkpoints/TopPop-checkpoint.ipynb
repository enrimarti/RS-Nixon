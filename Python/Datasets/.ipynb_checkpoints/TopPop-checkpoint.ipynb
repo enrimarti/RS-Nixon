{
 "cells": [
  {
   "cell_type": "code",
   "execution_count": 4,
   "metadata": {
    "collapsed": true
   },
   "outputs": [],
   "source": [
    "import findspark\n",
    "#useful to install this tool to simplify spark import\n",
    "findspark.init()\n",
    "from pyspark import  SparkContext\n",
    "sc = SparkContext( 'local', 'pyspark')"
   ]
  },
  {
   "cell_type": "code",
   "execution_count": 23,
   "metadata": {
    "collapsed": false
   },
   "outputs": [
    {
     "name": "stdout",
     "output_type": "stream",
     "text": [
      "5\n"
     ]
    },
    {
     "data": {
      "text/plain": [
       "[(u'33475', 9.559667298478576, 72),\n",
       " (u'33173', 9.285341399868079, 125),\n",
       " (u'32347', 9.204266405548555, 64),\n",
       " (u'29848', 9.163152676218388, 63),\n",
       " (u'15743', 9.151179774785628, 75)]"
      ]
     },
     "execution_count": 23,
     "metadata": {},
     "output_type": "execute_result"
    }
   ],
   "source": [
    "import numpy\n",
    "rdd=sc.textFile('train_no_header.csv')\n",
    "\n",
    "#obtaining rdd: itemid,rating (users are not useful for this recommendation)\n",
    "def firstMap (line):\n",
    "    x=line.split(',')\n",
    "    return x[1],int(x[2])\n",
    "rdd = rdd.map(firstMap).cache()\n",
    "\n",
    "#computing average vote of the entire dataset\n",
    "totalVotes = rdd.map(lambda x: x[1]).reduce(lambda x,y: x+y)\n",
    "avgVote = float(totalVotes)/rdd.count()\n",
    "\n",
    "#creating rdd: itemid, [rating_list]\n",
    "itemVotes=rdd.groupByKey()\n",
    "itemVotes=itemVotes.map(lambda x:(x[0],list(x[1])))\n",
    "itemAverage=itemVotes.map(lambda x: (x[0],float(sum(x[1]))/len(x[1]),len(x[1]))).cache()\n",
    "\n",
    "#computing average number of vote for item of the entire dataset\n",
    "avgVoteNumberPerItem=rdd.count()/itemVotes.count()\n"
   ]
  },
  {
   "cell_type": "code",
   "execution_count": 32,
   "metadata": {
    "collapsed": false
   },
   "outputs": [
    {
     "name": "stdout",
     "output_type": "stream",
     "text": [
      "7.5\n"
     ]
    },
    {
     "data": {
      "text/plain": [
       "[(u'33475', 9.4734789053368, 72),\n",
       " (u'33173', 9.238804324334154, 125),\n",
       " (u'32347', 9.120861160479377, 64),\n",
       " (u'15743', 9.080503914839703, 75),\n",
       " (u'29848', 9.08002231169185, 63),\n",
       " (u'36872', 9.054929857683733, 77),\n",
       " (u'3431', 9.050931090549307, 64),\n",
       " (u'34517', 9.046389464640452, 71),\n",
       " (u'29915', 9.038563109113511, 61),\n",
       " (u'13502', 9.024319599618897, 60)]"
      ]
     },
     "execution_count": 32,
     "metadata": {},
     "output_type": "execute_result"
    }
   ],
   "source": [
    "#Computing ranking value according to:\n",
    "#https://www.quora.com/How-is-a-Movies-weighted-rating-calculated-on-IMDb\n",
    "minimumVotesRequired=avgVoteNumberPerItem*1.5\n",
    "\n",
    "def tenStarScore (x):\n",
    "    R=x[1]\n",
    "    v=x[2]\n",
    "    m=minimumVotesRequired\n",
    "    C=avgVote\n",
    "    return x[0],(v*R+m*C)/(v+m),x[2]\n",
    "    \n",
    "itemRank=itemAverage.map(tenStarScore)            \n",
    "\n",
    "print minimumVotesRequired\n",
    "itemRank.takeOrdered(10,key=lambda x: -x[1])"
   ]
  },
  {
   "cell_type": "code",
   "execution_count": null,
   "metadata": {
    "collapsed": true
   },
   "outputs": [],
   "source": []
  }
 ],
 "metadata": {
  "kernelspec": {
   "display_name": "Python 2",
   "language": "python",
   "name": "python2"
  },
  "language_info": {
   "codemirror_mode": {
    "name": "ipython",
    "version": 2
   },
   "file_extension": ".py",
   "mimetype": "text/x-python",
   "name": "python",
   "nbconvert_exporter": "python",
   "pygments_lexer": "ipython2",
   "version": "2.7.10"
  }
 },
 "nbformat": 4,
 "nbformat_minor": 0
}
