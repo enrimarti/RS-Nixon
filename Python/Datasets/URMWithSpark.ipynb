{
 "cells": [
  {
   "cell_type": "code",
   "execution_count": 1,
   "metadata": {
    "collapsed": false
   },
   "outputs": [],
   "source": [
    "import findspark\n",
    "findspark.init()\n",
    "from pyspark import  SparkContext\n",
    "sc = SparkContext( 'local', 'pyspark')"
   ]
  },
  {
   "cell_type": "code",
   "execution_count": 2,
   "metadata": {
    "collapsed": false
   },
   "outputs": [
    {
     "name": "stdout",
     "output_type": "stream",
     "text": [
      "[(u'13357', [[u'8064', u'7'], [u'11253', u'9'], [u'11254', u'6'], [u'25667', u'7'], [u'34643', u'5']]), (u'4447', [[u'3788', u'7'], [u'6014', u'7']]), (u'11542', [[u'418', u'10'], [u'11021', u'8'], [u'31910', u'4'], [u'36163', u'10']]), (u'11543', [[u'9308', u'10'], [u'21655', u'4'], [u'23124', u'7'], [u'23978', u'7'], [u'35095', u'5']]), (u'11540', [[u'10696', u'10'], [u'12876', u'10'], [u'13752', u'6'], [u'21328', u'5'], [u'29005', u'9']])]\n"
     ]
    }
   ],
   "source": [
    "rdd = sc.textFile(\"train_no_header.csv\")\n",
    "rdd = rdd.map( lambda x: x.split(',') )\n",
    "rdd = rdd.map(lambda x:(x[0],[x[1],x[2]]))\n",
    "\n",
    "rdd = rdd.groupByKey()\n",
    "rdd = rdd.map(lambda x:(x[0],list(x[1])))\n",
    "print rdd.take(5)\n",
    "def toArray(x):\n",
    "    y=[]\n",
    "    for i in range(1,34000):\n",
    "        y.append(0)\n",
    "    for z in x[1]:\n",
    "        y[int(z[0])]=z[1]\n",
    "    return (x[0],y)\n"
   ]
  },
  {
   "cell_type": "code",
   "execution_count": null,
   "metadata": {
    "collapsed": true
   },
   "outputs": [],
   "source": []
  }
 ],
 "metadata": {
  "kernelspec": {
   "display_name": "Python 2",
   "language": "python",
   "name": "python2"
  },
  "language_info": {
   "codemirror_mode": {
    "name": "ipython",
    "version": 2
   },
   "file_extension": ".py",
   "mimetype": "text/x-python",
   "name": "python",
   "nbconvert_exporter": "python",
   "pygments_lexer": "ipython2",
   "version": "2.7.10"
  }
 },
 "nbformat": 4,
 "nbformat_minor": 0
}
