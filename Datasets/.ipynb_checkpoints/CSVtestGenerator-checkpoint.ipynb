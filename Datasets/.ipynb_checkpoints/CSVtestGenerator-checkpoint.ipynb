{
 "cells": [
  {
   "cell_type": "code",
   "execution_count": 2,
   "metadata": {
    "collapsed": true
   },
   "outputs": [],
   "source": [
    "import csv"
   ]
  },
  {
   "cell_type": "code",
   "execution_count": 14,
   "metadata": {
    "collapsed": false
   },
   "outputs": [],
   "source": [
    "#Removing header\n",
    "f = open('train.csv')\n",
    "f1= open('train_no_header.csv','w+')\n",
    "csv_f = csv.reader(f)\n",
    "csv_f1=csv.writer(f1)\n",
    "csv_f.next()\n",
    "for row in csv_f:\n",
    "    csv_f1.writerow(row)"
   ]
  },
  {
   "cell_type": "code",
   "execution_count": 25,
   "metadata": {
    "collapsed": false
   },
   "outputs": [],
   "source": [
    "#Ordering training set by user\n",
    "f1= open('train_no_header.csv')\n",
    "f2=open('train_user_ordered.csv','w+')\n",
    "csv_f1=csv.reader(f1)\n",
    "csv_f2=csv.writer(f2)\n",
    "sortedlist = sorted(csv_f1, key=lambda item: int(item[0]), reverse=False)\n",
    "for item in sortedlist:\n",
    "    csv_f2.writerow(item)"
   ]
  },
  {
   "cell_type": "code",
   "execution_count": 40,
   "metadata": {
    "collapsed": false
   },
   "outputs": [
    {
     "name": "stdout",
     "output_type": "stream",
     "text": [
      "17015\n",
      "['1734', '31341', '9', '1735', '30058', '9']\n",
      "['3363', '36751', '5', '3364', '1436', '8']\n",
      "['4721', '36781', '6', '4722', '17082', '4']\n",
      "['6274', '36815', '7', '6275', '3272', '9']\n",
      "['7665', '36851', '7', '7666', '23203', '3']\n",
      "['9286', '35756', '8', '9287', '26502', '10']\n",
      "['10947', '37132', '6', '10948', '5446', '6']\n",
      "['12608', '36989', '7', '12609', '7923', '3']\n",
      "['13898', '37053', '8', '13899', '7992', '8']\n"
     ]
    }
   ],
   "source": [
    "#Splitting ordered training set in 10 subsets train$x.csv keeping each user in a single dataset\n",
    "f2=open('train_user_ordered.csv')\n",
    "csv_f2=csv.reader(f2)\n",
    "f2_len= sum(1 for row in csv_f2)\n",
    "file_len=f2_len/10\n",
    "print file_len\n",
    "filenum=1\n",
    "f_part=open('train'+str(filenum)+'.csv','w+')\n",
    "csv_part=csv.writer(f_part)\n",
    "count=1\n",
    "previous_row=[0,0,0]\n",
    "f2.seek(0)\n",
    "for row in csv_f2:\n",
    "    if (previous_row[0]!=row[0] and count >= filenum*file_len and filenum < 10):\n",
    "        print previous_row+row\n",
    "        filenum+=1\n",
    "        f_part=open('train'+str(filenum)+'.csv','w+')\n",
    "        csv_part=csv.writer(f_part)\n",
    "    csv_part.writerow(row)\n",
    "    count+=1\n",
    "    previous_row=row"
   ]
  },
  {
   "cell_type": "code",
   "execution_count": null,
   "metadata": {
    "collapsed": true
   },
   "outputs": [],
   "source": [
    "#Creating URM\n"
   ]
  }
 ],
 "metadata": {
  "kernelspec": {
   "display_name": "Python 2",
   "language": "python",
   "name": "python2"
  },
  "language_info": {
   "codemirror_mode": {
    "name": "ipython",
    "version": 2
   },
   "file_extension": ".py",
   "mimetype": "text/x-python",
   "name": "python",
   "nbconvert_exporter": "python",
   "pygments_lexer": "ipython2",
   "version": "2.7.10"
  }
 },
 "nbformat": 4,
 "nbformat_minor": 0
}
