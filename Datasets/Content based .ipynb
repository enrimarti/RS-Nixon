{
 "cells": [
  {
   "cell_type": "code",
   "execution_count": 1,
   "metadata": {
    "collapsed": true
   },
   "outputs": [],
   "source": [
    "# coding: utf-8\n",
    "import findspark\n",
    "#useful to install this tool to simplify spark import\n",
    "findspark.init()\n",
    "from pyspark import  SparkContext\n",
    "sc = SparkContext( 'local[*]', 'pyspark')\n",
    "\n"
   ]
  },
  {
   "cell_type": "code",
   "execution_count": 25,
   "metadata": {
    "collapsed": false
   },
   "outputs": [],
   "source": [
    "top=\"33173 33475 1076 35300 15743\"\n",
    "\n",
    "def test_item_filter(x):\n",
    "    for i in x[1]:\n",
    "        if i[0] in test_users:\n",
    "            return True\n",
    "    return False\n",
    "\n",
    "def map_string (x):\n",
    "        y=x[1]\n",
    "        s=\"\"\n",
    "        for i in y:\n",
    "            s+=str(i[0])+\" \"\n",
    "        z=len(y)\n",
    "        top_rates=[33173, 33475, 1076, 35300, 15743]\n",
    "        i=0\n",
    "        while (z<5):\n",
    "            s+=str(top_rates[i])\n",
    "            i+=1\n",
    "            z+=1\n",
    "        if (y[0][1]<8):\n",
    "            s=top\n",
    "        return x[0],s\n",
    "\n",
    "def jaccard_sim(feature1,feature2):\n",
    "    s1=set(feature1)\n",
    "    s2=set(feature2)\n",
    "    if len(s1 | s2)==0: return 0\n",
    "    return float(len(s1 & s2)) / len(s1 | s2)\n",
    "\n",
    "feat_rdd=sc.textFile('icm_no_header.csv')\n",
    "train_rdd = sc.textFile(\"train_no_header.csv\")\n",
    "test_rdd = sc.textFile(\"test_no_header.csv\")\n",
    "test_users=test_rdd.collect()[0:10]\n",
    "\n",
    "\n"
   ]
  },
  {
   "cell_type": "code",
   "execution_count": 26,
   "metadata": {
    "collapsed": false
   },
   "outputs": [
    {
     "data": {
      "text/plain": [
       "[(u'35236', [[u'1573'], [u'5786'], [u'5787'], [u'9029'], [u'14755']]),\n",
       " (u'35540', [[u'18904']]),\n",
       " (u'35542', [[u'268'], [u'17043'], [u'17181'], [u'17805'], [u'18904']]),\n",
       " (u'3382', [[u'566'], [u'2277'], [u'9399'], [u'17952'], [u'18904']]),\n",
       " (u'35544',\n",
       "  [[u'2403'], [u'3248'], [u'9003'], [u'9004'], [u'12851'], [u'19584']]),\n",
       " (u'13357',\n",
       "  [[u'2068'],\n",
       "   [u'2275'],\n",
       "   [u'4557'],\n",
       "   [u'5787'],\n",
       "   [u'10869'],\n",
       "   [u'15634'],\n",
       "   [u'18904']]),\n",
       " (u'35546',\n",
       "  [[u'3332'],\n",
       "   [u'5787'],\n",
       "   [u'9004'],\n",
       "   [u'9727'],\n",
       "   [u'12362'],\n",
       "   [u'12543'],\n",
       "   [u'18549']]),\n",
       " (u'35548',\n",
       "  [[u'1536'], [u'5787'], [u'11455'], [u'15634'], [u'16260'], [u'16602']]),\n",
       " (u'24029',\n",
       "  [[u'1829'], [u'4820'], [u'8922'], [u'12701'], [u'13169'], [u'15634']]),\n",
       " (u'32239', [[u'4804'], [u'5786'], [u'10801'], [u'13846']])]"
      ]
     },
     "execution_count": 26,
     "metadata": {},
     "output_type": "execute_result"
    }
   ],
   "source": [
    "feat_rdd=feat_rdd.map(lambda x: x.split(',')).map(lambda x: (x[0],[x[1]]))\n",
    "\n",
    "test_item_votes_rdd=(train_rdd\n",
    "                     .map(lambda x: x.split(','))\n",
    "                     .map(lambda x:(x[1],[x[0],int(x[2])]))\n",
    "                     .groupByKey()\n",
    "                     .filter(test_item_filter)\n",
    "                     .map(lambda x: (x[0],list(x[1]))))\n",
    "\n",
    "test_items=test_item_votes_rdd.map(lambda x:x[0]).collect()\n",
    "item_feat_rdd=feat_rdd.groupByKey()\n",
    "item_feat_rdd.map(lambda x:(x[0],list(x[1]))).take(10)\n"
   ]
  },
  {
   "cell_type": "code",
   "execution_count": null,
   "metadata": {
    "collapsed": true
   },
   "outputs": [],
   "source": [
    "test_item_feat_rdd=item_feat_rdd.filter(lambda x: x[0] in test_items)\n",
    "\n"
   ]
  }
 ],
 "metadata": {
  "kernelspec": {
   "display_name": "Python 2",
   "language": "python",
   "name": "python2"
  },
  "language_info": {
   "codemirror_mode": {
    "name": "ipython",
    "version": 2
   },
   "file_extension": ".py",
   "mimetype": "text/x-python",
   "name": "python",
   "nbconvert_exporter": "python",
   "pygments_lexer": "ipython2",
   "version": "2.7.10"
  }
 },
 "nbformat": 4,
 "nbformat_minor": 0
}
