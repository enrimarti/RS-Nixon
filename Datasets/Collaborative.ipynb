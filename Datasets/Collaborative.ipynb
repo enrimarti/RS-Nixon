{
 "cells": [
  {
   "cell_type": "code",
   "execution_count": 1,
   "metadata": {
    "collapsed": true
   },
   "outputs": [],
   "source": [
    "import findspark\n",
    "#useful to install this tool to simplify spark import\n",
    "findspark.init()\n",
    "from pyspark import  SparkContext\n",
    "sc = SparkContext( 'local[*]', 'pyspark')\n",
    "import numpy"
   ]
  },
  {
   "cell_type": "code",
   "execution_count": 2,
   "metadata": {
    "collapsed": false
   },
   "outputs": [],
   "source": [
    "test_rdd = sc.textFile(\"test_no_header.csv\")\n",
    "test_users=test_rdd.collect()\n",
    "\n"
   ]
  },
  {
   "cell_type": "code",
   "execution_count": 23,
   "metadata": {
    "collapsed": false
   },
   "outputs": [],
   "source": [
    "from Similarities import euc_dist\n",
    "\n",
    "rdd = sc.textFile(\"train_no_header.csv\")\n",
    "rdd = rdd.map( lambda x: x.split(',') )\n",
    "rdd = rdd.map(lambda x:(x[0],[x[1],int(x[2])]))\n",
    "\n",
    "rdd = rdd.groupByKey()\n",
    "rdd = rdd.map(lambda x:(x[0],list(x[1])))\n",
    "\n",
    "#creating an rdd of test_users to select similarities only among them\n",
    "test_rdd=rdd.filter(lambda x: (x[0] in test_users))\n",
    "#computing similarities\n",
    "sim_rdd=rdd.cartesian(test_rdd)\n",
    "sim_rdd=sim_rdd.map(lambda x: (x[1][0],[x[0][0],euc_dist(x[1][1],x[0][1])])).filter(lambda x:x[1][1]>0)\n",
    "#sim_rdd.filter(lambda x: x[1][1]!=1 and x[1][1]!=0.5).take(10)"
   ]
  },
  {
   "cell_type": "code",
   "execution_count": 24,
   "metadata": {
    "collapsed": false
   },
   "outputs": [
    {
     "data": {
      "text/plain": [
       "[(u'8769', [u'4446', 1.0]),\n",
       " (u'5702', [u'4446', 0.5]),\n",
       " (u'14794', [u'4446', 0.5]),\n",
       " (u'1236', [u'4446', 0.5]),\n",
       " (u'11867', [u'4446', 1.0]),\n",
       " (u'173', [u'11542', 0.5]),\n",
       " (u'10570', [u'11542', 1.0]),\n",
       " (u'816', [u'11542', 0.5]),\n",
       " (u'14549', [u'11542', 1.0]),\n",
       " (u'2699', [u'11542', 1.0])]"
      ]
     },
     "execution_count": 24,
     "metadata": {},
     "output_type": "execute_result"
    }
   ],
   "source": [
    "urm_rdd=(sc\n",
    "         .textFile(\"train_no_header.csv\")\n",
    "         .map(lambda x: x.split(','))\n",
    "         .map(lambda x:(x[0],[x[1],int(x[2])])))\n",
    "\n",
    "\n",
    "urm_rdd.take(10)\n",
    "sim_rdd.take(10)"
   ]
  },
  {
   "cell_type": "code",
   "execution_count": 25,
   "metadata": {
    "collapsed": false
   },
   "outputs": [
    {
     "data": {
      "text/plain": [
       "[(u'164', ([u'2682', 0.5], [u'8035', 10])),\n",
       " (u'164', ([u'2682', 0.5], [u'10865', 3])),\n",
       " (u'164', ([u'2682', 0.5], [u'29805', 7])),\n",
       " (u'164', ([u'13050', 1.0], [u'8035', 10])),\n",
       " (u'164', ([u'13050', 1.0], [u'10865', 3])),\n",
       " (u'164', ([u'13050', 1.0], [u'29805', 7])),\n",
       " (u'164', ([u'4736', 0.5], [u'8035', 10])),\n",
       " (u'164', ([u'4736', 0.5], [u'10865', 3])),\n",
       " (u'164', ([u'4736', 0.5], [u'29805', 7])),\n",
       " (u'164', ([u'2796', 0.5], [u'8035', 10]))]"
      ]
     },
     "execution_count": 25,
     "metadata": {},
     "output_type": "execute_result"
    }
   ],
   "source": [
    "join_rdd=sim_rdd.join(urm_rdd)\n",
    "join_rdd.take(10)"
   ]
  },
  {
   "cell_type": "code",
   "execution_count": 29,
   "metadata": {
    "collapsed": false
   },
   "outputs": [
    {
     "data": {
      "text/plain": [
       "[((u'5775', u'14169'), <pyspark.resultiterable.ResultIterable at 0x106152210>),\n",
       " ((u'11677', u'30533'),\n",
       "  <pyspark.resultiterable.ResultIterable at 0x106152d50>),\n",
       " ((u'11283', u'29073'),\n",
       "  <pyspark.resultiterable.ResultIterable at 0x106152690>),\n",
       " ((u'12581', u'13379'),\n",
       "  <pyspark.resultiterable.ResultIterable at 0x1061523d0>),\n",
       " ((u'10880', u'15575'),\n",
       "  <pyspark.resultiterable.ResultIterable at 0x106088c90>),\n",
       " ((u'12159', u'7974'), <pyspark.resultiterable.ResultIterable at 0x106088890>),\n",
       " ((u'2843', u'16481'), <pyspark.resultiterable.ResultIterable at 0x106088b90>),\n",
       " ((u'13184', u'643'), <pyspark.resultiterable.ResultIterable at 0x10601cbd0>),\n",
       " ((u'1236', u'17539'), <pyspark.resultiterable.ResultIterable at 0x106106bd0>),\n",
       " ((u'10106', u'34058'),\n",
       "  <pyspark.resultiterable.ResultIterable at 0x106106d50>)]"
      ]
     },
     "execution_count": 29,
     "metadata": {},
     "output_type": "execute_result"
    }
   ],
   "source": [
    "def compute_rec (x):\n",
    "    num=sum(i[0]*i[1] for i in x[1])\n",
    "    den=sum(i[0] for i in x[1])\n",
    "    if den==0:\n",
    "        return 0\n",
    "    return x[0],float(num)/den\n",
    "\n",
    "rec_rdd=(join_rdd\n",
    "         .map(lambda x: ((x[1][0][0],x[1][1][0]),(x[1][0][1],x[1][1][1])))\n",
    "         .groupByKey())\n",
    "\n",
    "rec_rdd.take(10)\n"
   ]
  },
  {
   "cell_type": "code",
   "execution_count": 30,
   "metadata": {
    "collapsed": false
   },
   "outputs": [
    {
     "data": {
      "text/plain": [
       "[((u'2913', u'18168'), 7.8),\n",
       " ((u'3891', u'12290'), 8.0),\n",
       " ((u'11641', u'25084'), 7.666666666666667),\n",
       " ((u'14362', u'23520'), 3.0),\n",
       " ((u'5824', u'33741'), 8.0),\n",
       " ((u'6714', u'30806'), 8.0),\n",
       " ((u'11051', u'17747'), 7.060660171779822),\n",
       " ((u'10345', u'30729'), 5.0),\n",
       " ((u'2089', u'26307'), 10.0),\n",
       " ((u'12475', u'31816'), 4.0)]"
      ]
     },
     "execution_count": 30,
     "metadata": {},
     "output_type": "execute_result"
    }
   ],
   "source": [
    "rec_rdd=rec_rdd.map(compute_rec)\n",
    "rec_rdd.take(10)"
   ]
  }
 ],
 "metadata": {
  "kernelspec": {
   "display_name": "Python 2",
   "language": "python",
   "name": "python2"
  },
  "language_info": {
   "codemirror_mode": {
    "name": "ipython",
    "version": 2
   },
   "file_extension": ".py",
   "mimetype": "text/x-python",
   "name": "python",
   "nbconvert_exporter": "python",
   "pygments_lexer": "ipython2",
   "version": "2.7.10"
  }
 },
 "nbformat": 4,
 "nbformat_minor": 0
}
