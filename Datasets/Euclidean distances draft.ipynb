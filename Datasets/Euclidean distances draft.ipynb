{
 "cells": [
  {
   "cell_type": "code",
   "execution_count": 1,
   "metadata": {
    "collapsed": false
   },
   "outputs": [],
   "source": [
    "import scikits.crab as scc"
   ]
  },
  {
   "cell_type": "code",
   "execution_count": 2,
   "metadata": {
    "collapsed": false
   },
   "outputs": [],
   "source": [
    "import csv"
   ]
  },
  {
   "cell_type": "code",
   "execution_count": 3,
   "metadata": {
    "collapsed": false
   },
   "outputs": [],
   "source": [
    "from scikits.crab.metrics.pairwise import *"
   ]
  },
  {
   "cell_type": "code",
   "execution_count": 4,
   "metadata": {
    "collapsed": false
   },
   "outputs": [],
   "source": [
    "\"\"\"\n",
    "Pairwise algorithms available:\n",
    "\n",
    "-euclidean distances\n",
    "-pearson_correlation\n",
    "-jaccard_coefficient\n",
    "-manhattan_distances\n",
    "-sorensen_coefficient\n",
    "-tanimoto_coefficient\n",
    "-cosine_distances\n",
    "-spearman_coefficient\n",
    "-loglikehood_coefficient\n",
    "\n",
    "\"\"\"\n",
    "\n",
    "f = open('Datasets/train1.csv')\n",
    "csv_f = csv.reader(f)\n",
    "\n"
   ]
  },
  {
   "cell_type": "code",
   "execution_count": 5,
   "metadata": {
    "collapsed": false
   },
   "outputs": [
    {
     "name": "stdout",
     "output_type": "stream",
     "text": [
      "1734\n"
     ]
    }
   ],
   "source": [
    "#dimension of the matrix\n",
    "f.seek(0)\n",
    "n_users=0 #number of users\n",
    "previous_row=[0,0,0]\n",
    "for row in csv_f:\n",
    "    if (previous_row[0]!=row[0]):\n",
    "        n_users+=1\n",
    "    previous_row=row\n",
    "print n_users\n",
    "\n",
    "f.seek(0)\n",
    "\n",
    "previous_row=[0,0,0]\n",
    "items=[]\n",
    "for row in csv_f:\n",
    "    if (row[1] not in items):\n",
    "        items.append(row[1])\n",
    "\n",
    "\n"
   ]
  },
  {
   "cell_type": "code",
   "execution_count": 6,
   "metadata": {
    "collapsed": false
   },
   "outputs": [
    {
     "name": "stdout",
     "output_type": "stream",
     "text": [
      "9497\n"
     ]
    }
   ],
   "source": [
    "n_items=len(items) #number of items\n",
    "print n_items"
   ]
  },
  {
   "cell_type": "code",
   "execution_count": null,
   "metadata": {
    "collapsed": false
   },
   "outputs": [],
   "source": []
  },
  {
   "cell_type": "code",
   "execution_count": 7,
   "metadata": {
    "collapsed": false
   },
   "outputs": [],
   "source": [
    "#returns dictionary of shape item:rate for the selected user ID from csv\n",
    "def user_ratings (csv, ID):\n",
    "    rating = {}\n",
    "    for row in csv:\n",
    "        if(row[0] == ID):\n",
    "            rating[row[1]] = row[2]\n",
    "    return rating\n",
    "    \n",
    "    "
   ]
  },
  {
   "cell_type": "code",
   "execution_count": 8,
   "metadata": {
    "collapsed": false
   },
   "outputs": [
    {
     "name": "stdout",
     "output_type": "stream",
     "text": [
      "{'21101': '10', '3920': '10', '19478': '4', '14227': '5', '3864': '8', '22932': '9', '6703': '8', '3456': '7', '27660': '10', '6249': '7', '33173': '10', '19629': '8', '25533': '6', '7393': '9', '23507': '10', '33213': '9', '33603': '10', '3527': '10', '20484': '9', '16571': '10', '5248': '10', '6111': '10', '21195': '2', '30478': '3', '28083': '10', '11618': '1', '19022': '9'}\n"
     ]
    }
   ],
   "source": [
    "f.seek(0)\n",
    "\n",
    "print user_ratings (csv_f,'1')"
   ]
  },
  {
   "cell_type": "code",
   "execution_count": 9,
   "metadata": {
    "collapsed": true
   },
   "outputs": [],
   "source": [
    "#returns a list of common items between two dictionaries of shape item_rate\n",
    "def common_items (ratings1, ratings2):\n",
    "    common_list = []\n",
    "    for item in ratings1.keys():\n",
    "        if item in ratings2.keys():\n",
    "            common_list.append(item)\n",
    "    return common_list\n",
    "    "
   ]
  },
  {
   "cell_type": "code",
   "execution_count": 10,
   "metadata": {
    "collapsed": false
   },
   "outputs": [
    {
     "name": "stdout",
     "output_type": "stream",
     "text": [
      "{'21101': '10', '3920': '10', '19478': '4', '14227': '5', '3864': '8', '22932': '9', '6703': '8', '3456': '7', '27660': '10', '6249': '7', '33173': '10', '19629': '8', '25533': '6', '7393': '9', '23507': '10', '33213': '9', '33603': '10', '3527': '10', '20484': '9', '16571': '10', '5248': '10', '6111': '10', '21195': '2', '30478': '3', '28083': '10', '11618': '1', '19022': '9'}\n",
      "\n",
      "\n",
      "{'22506': '5', '18096': '10', '33523': '10', '4228': '10', '20569': '6', '20774': '5', '7118': '10', '10514': '10', '10515': '6', '18790': '10', '4386': '6', '4670': '3', '30131': '10', '22180': '8', '18383': '10', '14101': '10', '27923': '10', '18483': '8', '18484': '9', '718': '10', '23766': '9', '28761': '10', '33092': '10', '32308': '9', '6446': '10', '26369': '10', '17648': '10', '19860': '10', '25694': '7', '17645': '7', '36461': '10', '21986': '8', '15593': '10', '30080': '10', '27574': '6', '19658': '7', '26484': '10', '4328': '10', '33261': '8', '21844': '7', '28932': '10', '30996': '7', '16414': '7', '20759': '9', '14616': '10', '22859': '6', '10604': '8', '24479': '8', '15732': '8', '18186': '8', '10546': '10', '7788': '6', '32362': '6', '29466': '10', '23540': '10', '107': '10', '28715': '8', '27453': '10', '36728': '10', '1725': '8', '11758': '9', '13130': '9', '1009': '10', '2370': '6', '24608': '10', '30360': '10', '31306': '8', '2597': '9', '11126': '7', '14227': '10', '14039': '7', '35275': '9', '19693': '10', '2803': '10', '3456': '10', '6769': '5', '16803': '10', '3366': '10', '15242': '10', '29342': '10', '6206': '10', '6363': '10', '36021': '8', '33663': '10', '25631': '10', '34070': '10', '35390': '10', '10644': '8', '32615': '8', '36942': '10', '16345': '10', '22809': '3', '15019': '8', '26285': '10', '4605': '10', '34602': '10', '30942': '10', '36015': '8', '29848': '10', '24843': '10', '5713': '10', '25886': '9', '5225': '10', '31254': '10', '2108': '10', '13574': '10', '19753': '7', '11631': '10', '28063': '10', '31444': '8', '35738': '10', '29888': '10', '31136': '10', '20468': '10', '32656': '10', '18139': '10', '17943': '7', '33992': '10', '15060': '4', '7577': '9', '3431': '10', '26762': '10', '36717': '6', '9894': '10', '31037': '10', '15973': '9', '24198': '8', '29815': '7', '562': '10', '12354': '10', '29810': '3', '28650': '8', '25278': '7', '11499': '8', '7230': '8', '17831': '10', '25936': '8', '7643': '10', '7584': '9', '7585': '10', '27358': '10', '8483': '9', '25765': '8', '26109': '16', '18826': '10', '32922': '8', '1760': '7'}\n",
      "\n",
      "\n",
      "COMMON \n",
      "['14227', '3456']\n"
     ]
    }
   ],
   "source": [
    "#testing with user 1 and 477 (two items in common)\n",
    "f.seek(0)\n",
    "ratings_user1 = user_ratings(csv_f,'1')\n",
    "f.seek(0)\n",
    "ratings_user2 = user_ratings(csv_f,'477')\n",
    "print ratings_user1\n",
    "print '\\n'\n",
    "print ratings_user2\n",
    "f.seek(0)\n",
    "\n",
    "\n",
    "common_list12 = common_items(ratings_user1, ratings_user2)\n",
    "print'\\n'\n",
    "print 'COMMON '\n",
    "print common_list12"
   ]
  },
  {
   "cell_type": "code",
   "execution_count": 11,
   "metadata": {
    "collapsed": false
   },
   "outputs": [
    {
     "data": {
      "text/plain": [
       "'\\nvec1 = []\\nvec2 = []\\nfor i in common_list12:\\n    vec1.append(ratings_user1[i])\\n    vec2.append(ratings_user2[i])\\nprint vec1,vec2\\n'"
      ]
     },
     "execution_count": 11,
     "metadata": {},
     "output_type": "execute_result"
    }
   ],
   "source": [
    "#TODO: I'm not sure this is the best way to implement the similarity.\n",
    "# I extracted ratings as dictionaries and then managed them as vectors.\n",
    "# For sure dictionaries are handy for our purpose\n",
    "\"\"\"\n",
    "vec1 = []\n",
    "vec2 = []\n",
    "for i in common_list12:\n",
    "    vec1.append(ratings_user1[i])\n",
    "    vec2.append(ratings_user2[i])\n",
    "print vec1,vec2\n",
    "\"\"\"    \n",
    "    "
   ]
  },
  {
   "cell_type": "code",
   "execution_count": 12,
   "metadata": {
    "collapsed": true
   },
   "outputs": [],
   "source": [
    "list_of_ratings = [n_items]"
   ]
  },
  {
   "cell_type": "code",
   "execution_count": 15,
   "metadata": {
    "collapsed": false
   },
   "outputs": [
    {
     "name": "stdout",
     "output_type": "stream",
     "text": [
      "[3456, 3527, 3864, 3920, 5248, 6111, 6249, 6703, 7393, 11618, 14227, 16571, 19022, 19478, 19629, 20484, 21101, 21195, 22932, 23507, 25533, 27660, 28083, 30478, 33173, 33213, 33603]\n"
     ]
    }
   ],
   "source": [
    "#Since the function compares all the items for n users, I try to figure it out interactively for two users at time.\n",
    "#This approach is too much expensive\n",
    "\n",
    "#given a dictionary of shape item:rating returns a list with the ratings in their ID position (0 if none)\n",
    "def items_of_user ( ratings ):\n",
    "    list_of_ratings = []\n",
    "    for item in ratings.keys():\n",
    "        list_of_ratings.insert(int(ratings[item]),int(item))\n",
    "    return list_of_ratings\n",
    "\n",
    "#f.seek(0)\n",
    "\n",
    "short_items_list = items_of_user(ratings_user1)\n",
    "short_items_list.sort()\n",
    "print short_items_list\n",
    "\n",
    "    \n",
    "\n",
    "\n",
    "\n",
    "#TODO: deal with dimensions of the two vectors, as described in the function usage"
   ]
  },
  {
   "cell_type": "code",
   "execution_count": 14,
   "metadata": {
    "collapsed": false,
    "scrolled": true
   },
   "outputs": [
    {
     "data": {
      "text/plain": [
       "'\\nlong_items_list = [n_items]\\nfor i in long_items_list:\\n    if(i in short_items_list):\\n        long_items_list.append(i)\\n    else:\\n        long_items_list.append(0)\\n\\nprint long_items_list\\n'"
      ]
     },
     "execution_count": 14,
     "metadata": {},
     "output_type": "execute_result"
    }
   ],
   "source": [
    "# EVIL: do not unleash this cell unless you are NASA \n",
    "# or you live in A.D 4025 (hopefully you will have the required computation power even in your phone)\n",
    "\n",
    "\"\"\"\n",
    "long_items_list = [n_items]\n",
    "for i in long_items_list:\n",
    "    if(i in short_items_list):\n",
    "        long_items_list.append(i)\n",
    "    else:\n",
    "        long_items_list.append(0)\n",
    "\n",
    "print long_items_list\n",
    "\"\"\""
   ]
  },
  {
   "cell_type": "code",
   "execution_count": null,
   "metadata": {
    "collapsed": true
   },
   "outputs": [],
   "source": []
  }
 ],
 "metadata": {
  "kernelspec": {
   "display_name": "Python 2",
   "language": "python",
   "name": "python2"
  },
  "language_info": {
   "codemirror_mode": {
    "name": "ipython",
    "version": 2
   },
   "file_extension": ".py",
   "mimetype": "text/x-python",
   "name": "python",
   "nbconvert_exporter": "python",
   "pygments_lexer": "ipython2",
   "version": "2.7.10"
  }
 },
 "nbformat": 4,
 "nbformat_minor": 0
}
